{
  "nbformat": 4,
  "nbformat_minor": 0,
  "metadata": {
    "colab": {
      "provenance": [],
      "authorship_tag": "ABX9TyMSFmsp9j69ZtcPYKRpzxLs",
      "include_colab_link": true
    },
    "kernelspec": {
      "name": "python3",
      "display_name": "Python 3"
    },
    "language_info": {
      "name": "python"
    }
  },
  "cells": [
    {
      "cell_type": "markdown",
      "metadata": {
        "id": "view-in-github",
        "colab_type": "text"
      },
      "source": [
        "<a href=\"https://colab.research.google.com/github/Krishantsingh/Files-exceptional-handling-logging-and-memory-management-Assignment-/blob/main/Files%2C_exceptional_handling%2C_logging_and_memory_management_Assignment.ipynb\" target=\"_parent\"><img src=\"https://colab.research.google.com/assets/colab-badge.svg\" alt=\"Open In Colab\"/></a>"
      ]
    },
    {
      "cell_type": "code",
      "source": [
        "#Theoritoical Questions"
      ],
      "metadata": {
        "id": "1qDIH6MjwSoZ"
      },
      "execution_count": null,
      "outputs": []
    },
    {
      "cell_type": "markdown",
      "source": [
        "1. What is the difference between interpreted and compiled languages?\n",
        "\n",
        " =  Compiled Language:\n",
        "     - Compiled Language is a type of language in which A compiler translates the entire program into machine code  before execution. Compiled code tends to run faster because it is already translated into machine instructions.\n",
        "\n",
        "  Interpreted Language:\n",
        "     - Interpreted Language is a type of language in which An interpreter translates code line-by-line or statement-by-statement during execution.\n",
        "      Interpreted programs typically run slower because translation happens during execution."
      ],
      "metadata": {
        "id": "nleYtH8gwjjn"
      }
    },
    {
      "cell_type": "markdown",
      "source": [
        "2. What is exception handling in Python?\n",
        "\n",
        "  =  Exception handling is a part of coding in which coders identify some specific errors which came during in the codes and solve those type of errors."
      ],
      "metadata": {
        "id": "eVI5XhgYy3Nm"
      }
    },
    {
      "cell_type": "markdown",
      "source": [
        "3. What is the purpose of the finally block in exception handling?\n",
        "\n",
        " = The major purpose of finally block is to execute the code that is in the finally block whether any exception occurs into the earlier code or not."
      ],
      "metadata": {
        "id": "w4tloY021Dhl"
      }
    },
    {
      "cell_type": "markdown",
      "source": [
        "4.  What is logging in Python?\n",
        "\n",
        "  = Logging is the process of recording events, errors, or messages during the execution of a program. Python provides a built-in logging module that allows developers to create and manage log messages with various levels of importance."
      ],
      "metadata": {
        "id": "eL8Sensg2LVU"
      }
    },
    {
      "cell_type": "markdown",
      "source": [
        "5. What is the significance of the __del__ method in Python?\\\n",
        "\n",
        "  = The __del__ method in Python is a special method, that is called when an object is about to be destroyed or removed. Before the object is removed from memory by Python's garbage collector."
      ],
      "metadata": {
        "id": "R6pg1Rgu2uJW"
      }
    },
    {
      "cell_type": "markdown",
      "source": [
        "6.  What is the difference between import and from ... import in Python ??\n",
        "\n",
        "  = Import:\n",
        "     - The import statement is used to bring an entire module into the current namespace. You must use the module name as a prefix when accessing its functions, classes, or variables.\n",
        "\n",
        "   From Import:\n",
        "\n",
        "      -The from ... import statement is used to import specific components from a module directly into the current namespace. You don't need to prefix them with the module name.\n"
      ],
      "metadata": {
        "id": "GMxhu-ZY5lmc"
      }
    },
    {
      "cell_type": "markdown",
      "source": [
        "7. How can you handle multiple exceptions in Python?\n",
        "\n",
        "  =  In Python, you can handle multiple exceptions by using the try...except construct either in a single except block or seperate except block for each exceptions.\n",
        "  "
      ],
      "metadata": {
        "id": "99Id4Tjz6Ry0"
      }
    },
    {
      "cell_type": "markdown",
      "source": [
        "8. What is the purpose of the with statement when handling files in Python ??\n",
        "\n",
        "  = The with statement in Python simplifies file handling by ensuring proper acquisition and release of resources, such as file streams. It is used to manage file operations efficiently and to guarantee that resources are closed properly after their usage, even if an exception occurs during processing."
      ],
      "metadata": {
        "id": "2ylfi5Xd61zU"
      }
    },
    {
      "cell_type": "markdown",
      "source": [
        "9. What is the difference between multithreading and multiprocessing ??\n",
        "\n",
        "  =Multithreading:\n",
        "\n",
        "   -The process of running multiple threads within a single process is known as Multithreading.\n",
        "\n",
        "   -Lower overhead because threads share memory and resources.\n",
        "\n",
        "   -A crash in one thread can potentially crash the entire process.\n",
        "\n",
        "  Multiprocessing:\n",
        "\n",
        "   -The process of running multiple processes, each with its own memory space is known as Multiprocessing.\n",
        "\n",
        "   -Higher overhead due to separate memory allocation and inter-process communication.\n",
        "\n",
        "   -A crash in one process does not affect other processes."
      ],
      "metadata": {
        "id": "A_CODSLW7JGU"
      }
    },
    {
      "cell_type": "markdown",
      "source": [
        "10. What are the advantages of using logging in a program??\n",
        "\n",
        " = Some major advantages of using logging in a program are as follow,\n",
        "\n",
        "  - Logging is very helpfull for better debuging and thoubleshooting\n",
        "\n",
        "  - It improve code readability and maintainability\n",
        "\n",
        "  - Whilw using logging in the program there will be high security in the program\n",
        "\n",
        "  - Logging provides better Scalability of the program etc."
      ],
      "metadata": {
        "id": "iWThOWjz8Ptc"
      }
    },
    {
      "cell_type": "markdown",
      "source": [
        "11.  What is memory management in Python??\n",
        "\n",
        "  = Memory management in Python refers to the process of efficiently managing the memory used by a Python program, ensuring that memory is allocated and deallocated properly to optimize the performance and prevent memory leaks.\n"
      ],
      "metadata": {
        "id": "RJn1JPCC9f0k"
      }
    },
    {
      "cell_type": "markdown",
      "source": [
        "12.  What are the basic steps involved in exception handling in Python??\n",
        "\n",
        "  = The major basic steps involved in exception handling in python are as follow,\n",
        "\n",
        "   - Use a try Block\n",
        "  \n",
        "   - Use an except Block\n",
        "\n",
        "   - Optionally Use an else Block\n",
        "\n",
        "   - Use a finally Block etc.\n",
        "\n"
      ],
      "metadata": {
        "id": "M1L9daaj9xKa"
      }
    },
    {
      "cell_type": "markdown",
      "source": [
        "13.  Why is memory management important in Python??\n",
        "\n",
        "  =  Memory management is very important in python. Some of them are as follow,\n",
        "\n",
        "    - Efficient Resource Usage\n",
        "    - Prevention of Memory Leaks\n",
        "    - Stable Program Performance\n",
        "    - Memory Safety and Security\n",
        "    - Improved Code Readability and Development Efficiency\n",
        "    - Resource Management in Large-Scale Applications\n",
        "    - Built-in Memory Management Features in Python\n"
      ],
      "metadata": {
        "id": "WbtMIYBt-fom"
      }
    },
    {
      "cell_type": "markdown",
      "source": [
        "14. What is the role of try and except in exception handling??\n",
        "\n",
        "  = There is very important role pf try and except in exception handling , The try block is used to enclose the code that might raise an exception. It tells Python to \"try\" to execute the block of code inside it.\n",
        "If an exception occurs in the try block, the rest of the code within that block is skipped, and Python immediately searches for an except block that can handle the raised exception."
      ],
      "metadata": {
        "id": "Riara36-_K27"
      }
    },
    {
      "cell_type": "markdown",
      "source": [
        "15. How does Python's garbage collection system work.\n",
        "\n",
        "  = Python's garbage collection system is designed to manage memory efficiently and automatically reclaim unused memory, helping to prevent memory leaks and optimize program performance."
      ],
      "metadata": {
        "id": "0iPKF8_W_4qF"
      }
    },
    {
      "cell_type": "markdown",
      "source": [
        "16.  What is the purpose of the else block in exception handling??\n",
        "\n",
        "  =  The major purpose of the else block is to try multiple exceptions in their seperate blocks and resolve the error"
      ],
      "metadata": {
        "id": "IcKnOCM1AW1k"
      }
    },
    {
      "cell_type": "markdown",
      "source": [
        "17. What are the common logging levels in Python??\n",
        "\n",
        "  = The common logging levels in Python are as follow,\n",
        "\n",
        "   - CRITICAL\n",
        "   - ERROR\n",
        "   - WARNING\n",
        "   - INFO\n",
        "   - DEBUG\n",
        "   - NOTSET"
      ],
      "metadata": {
        "id": "sCED-nk4A5LV"
      }
    },
    {
      "cell_type": "markdown",
      "source": [
        "18. What is the difference between os.fork() and multiprocessing in Python ??\n",
        "\n",
        "  =  The difference between os.fork() ans multiprocessing in Python is given below,\n",
        "    \n",
        "    * OS.FORK()\n",
        "\n",
        "      - This function is a low-level way to create a new process.\n",
        "      \n",
        "      - it Only available on Unix-like operating systems.\n",
        "\n",
        "      - When os.fork() is called, it creates a child process that is a copy of the parent process.\n",
        "\n",
        "    * Multiprocessing:\n",
        "     \n",
        "     - This is a higher-level Python module that provides an easier and more powerful way to create and manage processes.\n",
        "\n",
        "     - Works on both Unix-like systems and Windows.\n",
        "\n",
        "     - The multiprocessing module provides a Process class that can be used to create new processes."
      ],
      "metadata": {
        "id": "VEkgl54JBeIN"
      }
    },
    {
      "cell_type": "markdown",
      "source": [
        "19. What is the importance of closing a file in Python???\n",
        "\n",
        "  = Closing is very important in python because untill we don't close a file we will not be able to see the content of those file in the file in file centre."
      ],
      "metadata": {
        "id": "ozcpJ-MFCxDb"
      }
    },
    {
      "cell_type": "markdown",
      "source": [
        "20. What is the difference between file.read() and file.readline() in Python ??\n",
        "\n",
        "  = The major different between file.read() and file.readline() in Python is given below,\n",
        "\n",
        "   * File.read()\n",
        "\n",
        "     - It reads the entire contents of a file at once and returns it as a single string.\n",
        "\n",
        "     - It returns a string containing all the content of the file\n",
        "\n",
        "     - It can be problematic when reading very large files as it loads the entire file into memory at once.\n",
        "\n",
        "    * File.readline()\n",
        "\n",
        "     -  It reads a single line from the file.\n",
        "\n",
        "     - It returns a single line from the file, including the newline character at the end.\n",
        "\n",
        "     - It is more memory-efficient because it reads only one line at a time.\n"
      ],
      "metadata": {
        "id": "pXCMgO1YDK2g"
      }
    },
    {
      "cell_type": "markdown",
      "source": [
        "21. What is the logging module in Python used for ??\n",
        "\n",
        "   = Logging module is a built-in module that provides a flexible framework for adding logging capabilities to your application. It is used to track events that happen during the execution of a program."
      ],
      "metadata": {
        "id": "lYyOJ2RlEXVr"
      }
    },
    {
      "cell_type": "markdown",
      "source": [
        "22. What is the os module in Python used for in file handling ??\n",
        "\n",
        "  = The os module in Python is used to perform operations such as creating, deleting, moving, renaming files and directories, and working with paths."
      ],
      "metadata": {
        "id": "De-BDa3EEucR"
      }
    },
    {
      "cell_type": "markdown",
      "source": [
        "23.  What are the challenges associated with memory management in Python ??\n",
        "\n",
        "  =  The major challenges associated with memory managment in python are ass follow,\n",
        "\n",
        "   - Memory Leaks\n",
        "   - Garbage Collection Overhead\n",
        "   - Object References and Cyclic Dependencies\n",
        "   - Limited Control Over Memory Allocation\n",
        "   - Memory Fragmentation etc."
      ],
      "metadata": {
        "id": "jjKiTtjeFTTe"
      }
    },
    {
      "cell_type": "markdown",
      "source": [
        "24.  How do you raise an exception manually in Python ??\n",
        "\n",
        "  =  I can raise an exception manually using the raise keyword. It allows to trigger an exception intentionally when certain conditions in your code are met."
      ],
      "metadata": {
        "id": "fpj2EFzzF4P1"
      }
    },
    {
      "cell_type": "markdown",
      "source": [
        "25. Why is it important to use multithreading in certain applications??\n",
        "\n",
        "  = Some major reasons to use multithreading in certain applictaions are as follow,\n",
        "\n",
        "    - Improved Application Performance\n",
        "\n",
        "    - Efficient Use of CPU and Resources\n",
        "\n",
        "    - Improved Responsiveness\n",
        "\n",
        "    - Simplified Program Structure\n",
        "\n",
        "    - Improved Scalability etc."
      ],
      "metadata": {
        "id": "V2supCb2GTW0"
      }
    },
    {
      "cell_type": "code",
      "source": [
        "# Practical Questions"
      ],
      "metadata": {
        "id": "h91qbgQrEsFv"
      },
      "execution_count": null,
      "outputs": []
    },
    {
      "cell_type": "markdown",
      "source": [
        "1. How can you open a file for writing in Python and write a string to it ??"
      ],
      "metadata": {
        "id": "KbaS7wOfMvkr"
      }
    },
    {
      "cell_type": "code",
      "source": [
        "f= open(\"file.txt\",'w')"
      ],
      "metadata": {
        "id": "lSG8DPxCHRfF"
      },
      "execution_count": null,
      "outputs": []
    },
    {
      "cell_type": "code",
      "source": [
        "f.write(\"This is my first line\")"
      ],
      "metadata": {
        "colab": {
          "base_uri": "https://localhost:8080/"
        },
        "id": "m8YsxkQpOjlm",
        "outputId": "ee02bd0f-ff40-42ad-bdce-659cc67ec157"
      },
      "execution_count": null,
      "outputs": [
        {
          "output_type": "execute_result",
          "data": {
            "text/plain": [
              "21"
            ]
          },
          "metadata": {},
          "execution_count": 4
        }
      ]
    },
    {
      "cell_type": "markdown",
      "source": [
        "2.  Write a Python program to read the contents of a file and print each line."
      ],
      "metadata": {
        "id": "f_POpIuYO0po"
      }
    },
    {
      "cell_type": "code",
      "source": [
        "content = \"\"\"\n",
        "This is my first line\n",
        "This is my second line\n",
        "This is my third line\n",
        "\"\"\"\n"
      ],
      "metadata": {
        "id": "N_MIsDz4OoQo"
      },
      "execution_count": null,
      "outputs": []
    },
    {
      "cell_type": "code",
      "source": [
        "with open(\"file.txt\",'w') as file:\n",
        "    file.write(content)\n"
      ],
      "metadata": {
        "id": "KpFN9upUPbrM"
      },
      "execution_count": null,
      "outputs": []
    },
    {
      "cell_type": "code",
      "source": [
        "with open(\"file.txt\",'r') as file:\n",
        "  data= file.read()\n",
        "  print(data)"
      ],
      "metadata": {
        "colab": {
          "base_uri": "https://localhost:8080/"
        },
        "id": "aAbBtFKxR6rk",
        "outputId": "1ca90898-e608-442d-bf2c-247e1b966bce"
      },
      "execution_count": null,
      "outputs": [
        {
          "output_type": "stream",
          "name": "stdout",
          "text": [
            "\n",
            "This is my first line\n",
            "This is my second line\n",
            "This is my third line\n",
            "\n"
          ]
        }
      ]
    },
    {
      "cell_type": "markdown",
      "source": [
        " 3.How would you handle a case where the file doesn't exist while trying to open it for reading."
      ],
      "metadata": {
        "id": "-ZrRrMG3SIky"
      }
    },
    {
      "cell_type": "code",
      "source": [
        "try:\n",
        "  with open(\"file1.txt\",'r') as file:\n",
        "    data= file.read()\n",
        "    print(data)\n",
        "except FileNotFoundError as e:\n",
        "  print(e)"
      ],
      "metadata": {
        "colab": {
          "base_uri": "https://localhost:8080/"
        },
        "id": "YMYsOoXvSFA0",
        "outputId": "b4a5c445-d747-4888-f04b-42375619cd09"
      },
      "execution_count": null,
      "outputs": [
        {
          "output_type": "stream",
          "name": "stdout",
          "text": [
            "[Errno 2] No such file or directory: 'file1.txt'\n"
          ]
        }
      ]
    },
    {
      "cell_type": "markdown",
      "source": [
        "4.  Write a Python script that reads from one file and writes its content to another file.\n"
      ],
      "metadata": {
        "id": "0M46nTFJSk0q"
      }
    },
    {
      "cell_type": "code",
      "source": [
        "input_filename = \"input.txt\"\n",
        "output_filename = \"output.txt\"\n",
        "\n",
        "try:\n",
        "    with open(input_filename, 'r') as infile:\n",
        "        content = infile.read()\n",
        "\n",
        "    with open(output_filename, 'w') as outfile:\n",
        "        outfile.write(content)\n",
        "\n",
        "    print(f\"Content successfully copied from {input_filename} to {output_filename}\")\n",
        "\n",
        "except FileNotFoundError:\n",
        "    print(f\"Error: The file '{input_filename}' was not found.\")\n",
        "except IOError as e:\n",
        "    print(f\"An I/O error occurred: {e}\")"
      ],
      "metadata": {
        "id": "PUu8xoS495Vz",
        "colab": {
          "base_uri": "https://localhost:8080/"
        },
        "outputId": "23cd30fe-d0f2-4f1d-d39e-7d741f60fd7b"
      },
      "execution_count": null,
      "outputs": [
        {
          "output_type": "stream",
          "name": "stdout",
          "text": [
            "Content successfully copied from input.txt to output.txt\n"
          ]
        }
      ]
    },
    {
      "cell_type": "markdown",
      "source": [
        "5. How would you catch and handle division by zero error in Python?"
      ],
      "metadata": {
        "id": "eJPKHNDL_XVq"
      }
    },
    {
      "cell_type": "code",
      "source": [
        "try:\n",
        "  10/0\n",
        "except ZeroDivisionError as e:\n",
        "  print(e)\n",
        "  print(\"This is zero division error\")"
      ],
      "metadata": {
        "colab": {
          "base_uri": "https://localhost:8080/"
        },
        "id": "PdPwk0Pc-g44",
        "outputId": "4c6d7c34-4240-4802-cb40-9e3ba4222aa5"
      },
      "execution_count": null,
      "outputs": [
        {
          "output_type": "stream",
          "name": "stdout",
          "text": [
            "division by zero\n",
            "This is zero division error\n"
          ]
        }
      ]
    },
    {
      "cell_type": "markdown",
      "source": [
        "6.  Write a Python program that logs an error message to a log file when a division by zero exception occurs."
      ],
      "metadata": {
        "id": "gZ4D2ai6_7DS"
      }
    },
    {
      "cell_type": "code",
      "source": [
        "import logging\n",
        "\n",
        "logging.basicConfig(\n",
        "    filename='error.log',\n",
        "    level=logging.ERROR,\n",
        "    format='%(asctime)s - %(levelname)s - %(message)s'\n",
        ")\n",
        "\n",
        "def divide_numbers(a, b):\n",
        "    try:\n",
        "        result = a / b\n",
        "        print(f\"Result: {result}\")\n",
        "    except ZeroDivisionError as e:\n",
        "        logging.error(\"Division by zero error occurred.\", exc_info=True)\n",
        "        print(\"Error: Division by zero is not allowed.\")"
      ],
      "metadata": {
        "id": "VpXXXtGn_vIa"
      },
      "execution_count": null,
      "outputs": []
    },
    {
      "cell_type": "code",
      "source": [
        "num1 = 10\n",
        "num2 = 0\n",
        "divide_numbers(num1, num2)"
      ],
      "metadata": {
        "colab": {
          "base_uri": "https://localhost:8080/"
        },
        "id": "HNO9b6s9Ab2G",
        "outputId": "7c2bf1df-d5a9-4da2-f4d6-a3990a41b14e"
      },
      "execution_count": null,
      "outputs": [
        {
          "output_type": "stream",
          "name": "stderr",
          "text": [
            "ERROR:root:Division by zero error occurred.\n",
            "Traceback (most recent call last):\n",
            "  File \"<ipython-input-10-7b597a7be344>\", line 11, in divide_numbers\n",
            "    result = a / b\n",
            "ZeroDivisionError: division by zero\n"
          ]
        },
        {
          "output_type": "stream",
          "name": "stdout",
          "text": [
            "Error: Division by zero is not allowed.\n"
          ]
        }
      ]
    },
    {
      "cell_type": "markdown",
      "source": [
        "7.  How do you log information at different levels (INFO, ERROR, WARNING) in Python using the logging module?"
      ],
      "metadata": {
        "id": "atKP4NFIAtQq"
      }
    },
    {
      "cell_type": "code",
      "source": [
        "logging.basicConfig(\n",
        "    filename='app.log',\n",
        "    level=logging.DEBUG,\n",
        "    format='%(asctime)s - %(levelname)s - %(message)s'\n",
        ")\n",
        "\n",
        "logging.debug(\"This is a debug message.\")\n",
        "logging.info(\"This is an info message.\")\n",
        "logging.warning(\"This is a warning message.\")\n",
        "logging.error(\"This is an error message.\")\n",
        "logging.critical(\"This is a critical message.\")"
      ],
      "metadata": {
        "colab": {
          "base_uri": "https://localhost:8080/"
        },
        "id": "o2F1WEYfAlQd",
        "outputId": "e5280eb8-643c-403a-bee2-7dc9b7b8b8a3"
      },
      "execution_count": null,
      "outputs": [
        {
          "output_type": "stream",
          "name": "stderr",
          "text": [
            "WARNING:root:This is a warning message.\n",
            "ERROR:root:This is an error message.\n",
            "CRITICAL:root:This is a critical message.\n"
          ]
        }
      ]
    },
    {
      "cell_type": "markdown",
      "source": [
        "8. Write a program to handle a file opening error using exception handling."
      ],
      "metadata": {
        "id": "M6dLNc_ABwCn"
      }
    },
    {
      "cell_type": "code",
      "source": [
        "try:\n",
        "  f=open(\"file.txt\",'r')\n",
        "  f.read()\n",
        "except Exception as e:\n",
        "  print(e)\n",
        "  print(\"This is file not found error\")"
      ],
      "metadata": {
        "colab": {
          "base_uri": "https://localhost:8080/"
        },
        "id": "VbfUA7V0BaU8",
        "outputId": "e763022b-fd34-4383-f99b-30a2f797306e"
      },
      "execution_count": null,
      "outputs": [
        {
          "output_type": "stream",
          "name": "stdout",
          "text": [
            "[Errno 2] No such file or directory: 'file.txt'\n",
            "This is file not found error\n"
          ]
        }
      ]
    },
    {
      "cell_type": "markdown",
      "source": [
        "9. How can you read a file line by line and store its content in a list in Python??"
      ],
      "metadata": {
        "id": "jvCpimrFEITf"
      }
    },
    {
      "cell_type": "code",
      "source": [
        "def read_file_into_list(filename):\n",
        "    try:\n",
        "        with open(filename, 'r') as file:\n",
        "            lines = file.readlines()\n",
        "        return lines\n",
        "    except FileNotFoundError:\n",
        "        print(f\"Error: The file '{filename}' does not exist.\")\n",
        "        return []\n",
        "    except IOError as e:\n",
        "        print(f\"An IOError occurred: {e}\")\n",
        "        return []"
      ],
      "metadata": {
        "id": "pWQrVb7dEDFW"
      },
      "execution_count": null,
      "outputs": []
    },
    {
      "cell_type": "code",
      "source": [
        "f=open(\"file1.txt\",'w')\n",
        "f.write(\"This is my first line\\n\")\n",
        "f.write(\"This is my second line\\n\")\n",
        "f.write(\"This is my third line\\n\")\n",
        "f.close()"
      ],
      "metadata": {
        "id": "V8yosOctEZEG"
      },
      "execution_count": null,
      "outputs": []
    },
    {
      "cell_type": "code",
      "source": [
        "file_text= read_file_into_list(\"file1.txt\")\n",
        "print(file_text)"
      ],
      "metadata": {
        "colab": {
          "base_uri": "https://localhost:8080/"
        },
        "id": "j5iCDiIOEmf-",
        "outputId": "72e0411c-6a21-470b-b3b5-aa4b2386a321"
      },
      "execution_count": null,
      "outputs": [
        {
          "output_type": "stream",
          "name": "stdout",
          "text": [
            "['This is my first line\\n', 'This is my second line\\n', 'This is my third line\\n']\n"
          ]
        }
      ]
    },
    {
      "cell_type": "markdown",
      "source": [
        "10.  How can you append data to an existing file in Python??"
      ],
      "metadata": {
        "id": "vBU3tSZQFX_V"
      }
    },
    {
      "cell_type": "code",
      "source": [
        "f=open(\"file1.txt\",'a')\n",
        "f.write(\"This is my fourth line\\n\")\n",
        "f.write(\"This is my fifth line\\n\")"
      ],
      "metadata": {
        "id": "5xRyydPEFUDm"
      },
      "execution_count": null,
      "outputs": []
    },
    {
      "cell_type": "markdown",
      "source": [
        "11.  Write a Python program that uses a try-except block to handle an error when attempting to access a\n",
        "dictionary key that doesn't exist."
      ],
      "metadata": {
        "id": "9m8ibKTeGyf8"
      }
    },
    {
      "cell_type": "code",
      "source": [
        "d= {\"name\":\"ram\",\"course\":\"ds\"}"
      ],
      "metadata": {
        "id": "vI-XoeFbG0Wz"
      },
      "execution_count": null,
      "outputs": []
    },
    {
      "cell_type": "code",
      "source": [
        "type(d)"
      ],
      "metadata": {
        "colab": {
          "base_uri": "https://localhost:8080/"
        },
        "id": "Hic3eaiMHErh",
        "outputId": "5688e695-a8b1-4890-8982-48df17bdc650"
      },
      "execution_count": null,
      "outputs": [
        {
          "output_type": "execute_result",
          "data": {
            "text/plain": [
              "dict"
            ]
          },
          "metadata": {},
          "execution_count": 22
        }
      ]
    },
    {
      "cell_type": "code",
      "source": [
        "try:\n",
        "  d[\"fee\"]\n",
        "except Exception as e:\n",
        "  print(e)\n",
        "  print(\"This is key error\")"
      ],
      "metadata": {
        "colab": {
          "base_uri": "https://localhost:8080/"
        },
        "id": "IXD_tLdaHF7f",
        "outputId": "d559c826-4697-4088-d162-15c6e2528f7d"
      },
      "execution_count": null,
      "outputs": [
        {
          "output_type": "stream",
          "name": "stdout",
          "text": [
            "'fee'\n",
            "This is key error\n"
          ]
        }
      ]
    },
    {
      "cell_type": "markdown",
      "source": [
        "12. Write a program that demonstrates using multiple except blocks to handle different types of exceptions."
      ],
      "metadata": {
        "id": "OKulLQCFHcXr"
      }
    },
    {
      "cell_type": "code",
      "source": [
        "try:\n",
        "  f=open(\"text.txt\",'r')\n",
        "except ZeroDivisionError as e:\n",
        "  print(e)\n",
        "except KeyError as e:\n",
        "  print(e)\n",
        "except TypeError as e:\n",
        "  print(e)\n",
        "except FileNotFoundError as e:\n",
        "  print(e)\n",
        "except Exception as e:\n",
        "  print(e)\n",
        "\n",
        "finally:\n",
        "  print(\"This is file not find error\")"
      ],
      "metadata": {
        "colab": {
          "base_uri": "https://localhost:8080/"
        },
        "id": "eif1OxIRHXTJ",
        "outputId": "9eceb5fb-9add-4da3-82d3-8ca0905c7c3d"
      },
      "execution_count": null,
      "outputs": [
        {
          "output_type": "stream",
          "name": "stdout",
          "text": [
            "[Errno 2] No such file or directory: 'text.txt'\n",
            "This is file not find error\n"
          ]
        }
      ]
    },
    {
      "cell_type": "markdown",
      "source": [
        " 13. How would you check if a file exists before attempting to read it in Python??"
      ],
      "metadata": {
        "id": "O_yrMhHcIbhS"
      }
    },
    {
      "cell_type": "code",
      "source": [
        "f=open(\"file1.txt\",'w')\n",
        "f.write(\"This is my first line\\n\")\n",
        "f.write(\"This is my second line\\n\")\n",
        "f.write(\"This is my third line\\n\")\n",
        "f.close()\n",
        "\n",
        "import os\n",
        "filename = \"file1.txt\"\n",
        "\n",
        "if os.path.exists(filename):\n",
        "    with open(filename, 'r') as file:\n",
        "        content = file.read()\n",
        "        print(content)\n",
        "else:\n",
        "    print(f\"The file '{filename}' does not exist.\")"
      ],
      "metadata": {
        "colab": {
          "base_uri": "https://localhost:8080/"
        },
        "id": "KSh1a6PvIE-Y",
        "outputId": "1567dd85-06f7-4a93-eeab-ec1958c4293b"
      },
      "execution_count": null,
      "outputs": [
        {
          "output_type": "stream",
          "name": "stdout",
          "text": [
            "This is my first line\n",
            "This is my second line\n",
            "This is my third line\n",
            "\n"
          ]
        }
      ]
    },
    {
      "cell_type": "markdown",
      "source": [
        "14.  Write a program that uses the logging module to log both informational and error messages."
      ],
      "metadata": {
        "id": "5dtGLFnEJdoB"
      }
    },
    {
      "cell_type": "code",
      "source": [
        "import logging\n",
        "\n",
        "logging.basicConfig(\n",
        "    filename='file.log',\n",
        "    level=logging.DEBUG,\n",
        "    format='%(asctime)s - %(levelname)s - %(message)s'\n",
        ")\n",
        "\n",
        "def divide_numbers(a, b):\n",
        "    try:\n",
        "        logging.info(f\"Attempting to divide {a} by {b}.\")\n",
        "        result = a / b\n",
        "        logging.info(f\"Division successful: {a} / {b} = {result}\")\n",
        "        return result\n",
        "    except ZeroDivisionError as e:\n",
        "        logging.error(\"Division by zero attempted.\", exc_info=True)\n",
        "        return None\n",
        "    except Exception as e:\n",
        "        logging.error(f\"An unexpected error occurred: {e}\", exc_info=True)\n",
        "        return None\n",
        "\n",
        "\n",
        "divide_numbers(10, 2)\n",
        "divide_numbers(10, 0)"
      ],
      "metadata": {
        "colab": {
          "base_uri": "https://localhost:8080/"
        },
        "id": "MEchY0SGI2nb",
        "outputId": "3f023f3f-2f04-4469-f070-dcabb7dd5587"
      },
      "execution_count": null,
      "outputs": [
        {
          "output_type": "stream",
          "name": "stderr",
          "text": [
            "ERROR:root:Division by zero attempted.\n",
            "Traceback (most recent call last):\n",
            "  File \"<ipython-input-35-2d1cc3d9013a>\", line 12, in divide_numbers\n",
            "    result = a / b\n",
            "ZeroDivisionError: division by zero\n"
          ]
        }
      ]
    },
    {
      "cell_type": "markdown",
      "source": [
        "15. Write a Python program that prints the content of a file and handles the case when the file is empty."
      ],
      "metadata": {
        "id": "-eAI7eQaJ7r2"
      }
    },
    {
      "cell_type": "code",
      "source": [
        "f=open(\"file.txt\",'w')\n",
        "f.write(\"This is first line\\n\")\n",
        "f.write(\"This is last line\\n\")\n",
        "f.close()\n",
        "\n",
        "try:\n",
        "  f=open(\"file.txt\",'r')\n",
        "  content=f.read()\n",
        "  print(content)\n",
        "except Exception as e:\n",
        "  print(e)\n",
        "  print(\"This is file not found error\")"
      ],
      "metadata": {
        "colab": {
          "base_uri": "https://localhost:8080/"
        },
        "id": "0Rh9LxK_Jwip",
        "outputId": "692a7bf4-2f4f-4cf1-87e3-c6bf452f2a1c"
      },
      "execution_count": null,
      "outputs": [
        {
          "output_type": "stream",
          "name": "stdout",
          "text": [
            "This is first line\n",
            "This is last line\n",
            "\n"
          ]
        }
      ]
    },
    {
      "cell_type": "markdown",
      "source": [
        "16. Demonstrate how to use memory profiling to check the memory usage of a small program."
      ],
      "metadata": {
        "id": "pOxc9S_1LQqK"
      }
    },
    {
      "cell_type": "code",
      "source": [
        "from memory_profiler import profile\n",
        "\n",
        "@profile\n",
        "def generate_list():\n",
        "    my_list = [x * 2 for x in range(1000000)]\n",
        "    return my_list\n",
        "\n",
        "if __name__ == \"__main__\":\n",
        "    result = generate_list()\n",
        "    print(f\"Length of the list: {len(result)}\")"
      ],
      "metadata": {
        "colab": {
          "base_uri": "https://localhost:8080/"
        },
        "id": "H6ZuZ4Y6iatg",
        "outputId": "1ca95e8b-b718-4886-dd9a-78893d07633b"
      },
      "execution_count": null,
      "outputs": [
        {
          "output_type": "stream",
          "name": "stdout",
          "text": [
            "ERROR: Could not find file <ipython-input-110-4ae137589d71>\n",
            "NOTE: %mprun can only be used on functions defined in physical files, and not in the IPython environment.\n",
            "Length of the list: 1000000\n"
          ]
        }
      ]
    },
    {
      "cell_type": "markdown",
      "source": [
        "17.  Write a Python program to create and write a list of numbers to a file, one number per line."
      ],
      "metadata": {
        "id": "lBUNd3nzOh6S"
      }
    },
    {
      "cell_type": "code",
      "source": [
        "def write_numbers_to_file(filename, numbers):\n",
        "    try:\n",
        "        with open(filename, 'w') as file:\n",
        "            for number in numbers:\n",
        "                file.write(f\"{number}\\n\")\n",
        "        print(f\"Numbers successfully written to {filename}.\")\n",
        "    except IOError as e:\n",
        "        print(f\"An IOError occurred: {e}\")"
      ],
      "metadata": {
        "id": "HwmlpssQOs2L"
      },
      "execution_count": null,
      "outputs": []
    },
    {
      "cell_type": "code",
      "source": [
        "numbers_list = [1, 2, 3, 4, 5, 6, 7, 8, 9, 10]\n",
        "file_name = \"numbers.txt\"\n",
        "write_numbers_to_file(file_name, numbers_list)"
      ],
      "metadata": {
        "colab": {
          "base_uri": "https://localhost:8080/"
        },
        "id": "kBy96IurO5U5",
        "outputId": "53ba5f6e-3562-4645-9e36-c1a38e03ed09"
      },
      "execution_count": null,
      "outputs": [
        {
          "output_type": "stream",
          "name": "stdout",
          "text": [
            "Numbers successfully written to numbers.txt.\n"
          ]
        }
      ]
    },
    {
      "cell_type": "markdown",
      "source": [
        "18. How would you implement a basic logging setup that logs to a file with rotation after 1MB."
      ],
      "metadata": {
        "id": "jA8dJlfDPV7K"
      }
    },
    {
      "cell_type": "code",
      "source": [
        "import logging\n",
        "from logging.handlers import RotatingFileHandler\n",
        "\n",
        "log_file = 'app.log'\n",
        "log_handler = RotatingFileHandler(\n",
        "    log_file,\n",
        "    maxBytes=1 * 1024 * 1024,\n",
        "    backupCount=3\n",
        ")\n",
        "\n",
        "logger = logging.getLogger()\n",
        "logger.setLevel(logging.DEBUG)\n",
        "\n",
        "\n",
        "formatter = logging.Formatter('%(asctime)s - %(levelname)s - %(message)s')\n",
        "log_handler.setFormatter(formatter)\n",
        "\n",
        "\n",
        "logger.addHandler(log_handler)\n",
        "\n",
        "\n",
        "logger.debug(\"This is a DEBUG message.\")\n",
        "logger.info(\"This is an INFO message.\")\n",
        "logger.warning(\"This is a WARNING message.\")\n",
        "logger.error(\"This is an ERROR message.\")\n",
        "logger.critical(\"This is a CRITICAL message.\")"
      ],
      "metadata": {
        "colab": {
          "base_uri": "https://localhost:8080/"
        },
        "id": "kGr-p3uBPGO4",
        "outputId": "9502e36d-2ad5-467c-c2c5-04006e0f6af5"
      },
      "execution_count": null,
      "outputs": [
        {
          "output_type": "stream",
          "name": "stderr",
          "text": [
            "DEBUG:root:This is a DEBUG message.\n",
            "INFO:root:This is an INFO message.\n",
            "WARNING:root:This is a WARNING message.\n",
            "ERROR:root:This is an ERROR message.\n",
            "CRITICAL:root:This is a CRITICAL message.\n"
          ]
        }
      ]
    },
    {
      "cell_type": "markdown",
      "source": [
        "19.  Write a program that handles both IndexError and KeyError using a try-except block."
      ],
      "metadata": {
        "id": "yhr06FX5RlCO"
      }
    },
    {
      "cell_type": "code",
      "source": [
        "def access_list_and_dict():\n",
        "    my_list = [1, 2, 3]\n",
        "    my_dict = {'a': 1, 'b': 2, 'c': 3}\n",
        "\n",
        "    try:\n",
        "        list_value = my_list[5]\n",
        "    except IndexError:\n",
        "        print(\"IndexError: The list index is out of range.\")\n",
        "\n",
        "    try:\n",
        "        dict_value = my_dict['d']\n",
        "    except KeyError:\n",
        "        print(\"KeyError: The dictionary key does not exist.\")"
      ],
      "metadata": {
        "id": "082e_SFyT_eh"
      },
      "execution_count": null,
      "outputs": []
    },
    {
      "cell_type": "code",
      "source": [
        "access_list_and_dict()"
      ],
      "metadata": {
        "colab": {
          "base_uri": "https://localhost:8080/"
        },
        "id": "iVS34PdIUkQf",
        "outputId": "21a43817-a874-4288-cf65-8b4399ad1d6a"
      },
      "execution_count": null,
      "outputs": [
        {
          "output_type": "stream",
          "name": "stdout",
          "text": [
            "IndexError: The list index is out of range.\n",
            "KeyError: The dictionary key does not exist.\n"
          ]
        }
      ]
    },
    {
      "cell_type": "markdown",
      "source": [
        "20. How would you open a file and read its contents using a context manager in Python ??"
      ],
      "metadata": {
        "id": "sPAJgYNwUwBI"
      }
    },
    {
      "cell_type": "code",
      "source": [
        "with open(\"file3.txt\",'w') as file:\n",
        "  file.write(\"This is my first line\\n\")\n",
        "  file.write(\"This is my scond line\\n\")\n",
        "  file.write(\"This is my third line\\n\")\n",
        "\n",
        "with open(\"file3.txt\",'r') as file:\n",
        "  data= file.read()\n",
        "  print(data)"
      ],
      "metadata": {
        "colab": {
          "base_uri": "https://localhost:8080/"
        },
        "id": "0RILk95FU7id",
        "outputId": "4bcda18f-6ec9-40e6-9c4e-556d9aad58cf"
      },
      "execution_count": null,
      "outputs": [
        {
          "output_type": "stream",
          "name": "stdout",
          "text": [
            "This is my first line\n",
            "This is my scond line\n",
            "This is my third line\n",
            "\n"
          ]
        }
      ]
    },
    {
      "cell_type": "markdown",
      "source": [
        "21.  Write a Python program that reads a file and prints the number of occurrences of a specific word."
      ],
      "metadata": {
        "id": "WJ8W1dQ-YpoB"
      }
    },
    {
      "cell_type": "code",
      "source": [
        "def count_word_occurrences(filename, word_to_count):\n",
        "    try:\n",
        "        with open(filename, 'r') as file:\n",
        "            content = file.read().lower()\n",
        "            word_count = content.count(word_to_count.lower())\n",
        "\n",
        "        print(f\"The word '{word_to_count}' appears {word_count} times in the file '{filename}'.\")\n",
        "    except FileNotFoundError:\n",
        "        print(f\"The file '{filename}' was not found.\")\n",
        "    except IOError as e:\n",
        "        print(f\"An IOError occurred: {e}\")\n"
      ],
      "metadata": {
        "id": "ALDwoma6WyD4"
      },
      "execution_count": null,
      "outputs": []
    },
    {
      "cell_type": "code",
      "source": [
        "with open(\"file.txt\",'w') as file:\n",
        "  file.write(\"This is my first line\\n\")\n",
        "  file.write(\"This is my second line\\n\")\n",
        "  file.write(\"This is my third line\\n\")\n",
        "\n",
        "filename= 'file.txt'\n",
        "word_to_count = 'python'\n",
        "count_word_occurrences(filename, word_to_count)"
      ],
      "metadata": {
        "colab": {
          "base_uri": "https://localhost:8080/"
        },
        "id": "PlWpV9LEZ-5p",
        "outputId": "49c67eb8-1896-47a9-d51b-201f6a38b031"
      },
      "execution_count": null,
      "outputs": [
        {
          "output_type": "stream",
          "name": "stdout",
          "text": [
            "The word 'python' appears 0 times in the file 'file.txt'.\n"
          ]
        }
      ]
    },
    {
      "cell_type": "markdown",
      "source": [
        "22.  How can you check if a file is empty before attempting to read its contents ??"
      ],
      "metadata": {
        "id": "3bWxyLVXbQeJ"
      }
    },
    {
      "cell_type": "code",
      "source": [
        "import os\n",
        "\n",
        "with open(\"file.txt\",'w') as file:\n",
        "  file.write(\"This file is not empty\")"
      ],
      "metadata": {
        "id": "wz47Dv2FbEJ3"
      },
      "execution_count": null,
      "outputs": []
    },
    {
      "cell_type": "code",
      "source": [
        "filename = 'file.txt'\n",
        "\n",
        "if os.path.exists(filename) and os.path.getsize(filename) > 0:\n",
        "    with open(filename, 'r') as file:\n",
        "        content = file.read()\n",
        "        print(\"File contents:\")\n",
        "        print(content)\n",
        "else:\n",
        "    if not os.path.exists(filename):\n",
        "        print(f\"The file '{filename}' does not exist.\")\n",
        "    else:\n",
        "        print(f\"The file '{filename}' is empty.\")"
      ],
      "metadata": {
        "colab": {
          "base_uri": "https://localhost:8080/"
        },
        "id": "oGtioGcgb9qY",
        "outputId": "ebd5924a-dc2e-4766-c08e-f9b39a246d74"
      },
      "execution_count": null,
      "outputs": [
        {
          "output_type": "stream",
          "name": "stdout",
          "text": [
            "File contents:\n",
            "This file is not empty\n"
          ]
        }
      ]
    },
    {
      "cell_type": "markdown",
      "source": [
        "23. Write a Python program that writes to a log file when an error occurs during file handling."
      ],
      "metadata": {
        "id": "drH-utMecoO7"
      }
    },
    {
      "cell_type": "code",
      "source": [
        "import logging\n",
        "log_file = 'file_handling.log'\n",
        "logging.basicConfig(\n",
        "    filename=log_file,\n",
        "    level=logging.ERROR,\n",
        "    format='%(asctime)s - %(levelname)s - %(message)s'\n",
        ")\n",
        "\n",
        "def read_file(filename):\n",
        "    try:\n",
        "        with open(filename, 'r') as file:\n",
        "            content = file.read()\n",
        "            return content\n",
        "    except FileNotFoundError:\n",
        "        logging.error(f\"File '{filename}' not found.\")\n",
        "        print(f\"File '{filename}' not found.\")\n",
        "    except IOError as e:\n",
        "        logging.error(f\"An IOError occurred while reading the file '{filename}': {e}\")\n",
        "        print(f\"An error occurred while reading the file '{filename}': {e}\")\n",
        "\n",
        "def write_file(filename, content):\n",
        "    try:\n",
        "        with open(filename, 'w') as file:\n",
        "            file.write(content)\n",
        "            print(f\"Content successfully written to '{filename}'.\")\n",
        "    except IOError as e:\n",
        "        logging.error(f\"An IOError occurred while writing to the file '{filename}': {e}\")\n",
        "        print(f\"An error occurred while writing to the file '{filename}': {e}\")\n"
      ],
      "metadata": {
        "id": "745pqxJlciju"
      },
      "execution_count": null,
      "outputs": []
    },
    {
      "cell_type": "code",
      "source": [
        "with open(\"file.txt\",'w') as file:\n",
        "  file.write('This is my first line\\n')\n",
        "  file.write('This is my second line\\n')\n",
        "\n",
        "filename= \"file.txt\"\n",
        "read_file(filename)\n",
        "write_file(filename, 'This is my last line\\n.')"
      ],
      "metadata": {
        "colab": {
          "base_uri": "https://localhost:8080/"
        },
        "id": "BDCZi7Pdc3fe",
        "outputId": "b5721534-3bf5-492e-c57e-2edc999301f1"
      },
      "execution_count": null,
      "outputs": [
        {
          "output_type": "stream",
          "name": "stdout",
          "text": [
            "Content successfully written to 'file.txt'.\n"
          ]
        }
      ]
    },
    {
      "cell_type": "code",
      "source": [],
      "metadata": {
        "id": "WrwmKGKDdEwJ"
      },
      "execution_count": null,
      "outputs": []
    }
  ]
}